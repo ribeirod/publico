{
  "nbformat": 4,
  "nbformat_minor": 0,
  "metadata": {
    "colab": {
      "provenance": [],
      "authorship_tag": "ABX9TyPJ8kjDTkMkWjn4bjtuy74Y",
      "include_colab_link": true
    },
    "kernelspec": {
      "name": "python3",
      "display_name": "Python 3"
    },
    "language_info": {
      "name": "python"
    }
  },
  "cells": [
    {
      "cell_type": "markdown",
      "metadata": {
        "id": "view-in-github",
        "colab_type": "text"
      },
      "source": [
        "<a href=\"https://colab.research.google.com/github/ribeirod/publico/blob/main/10_PySpark_com_SQL.ipynb\" target=\"_parent\"><img src=\"https://colab.research.google.com/assets/colab-badge.svg\" alt=\"Open In Colab\"/></a>"
      ]
    },
    {
      "cell_type": "markdown",
      "source": [
        "# **PySpark com SQL**\n",
        "\n",
        "Abaixo segue exemplos de consultas SQL usando o PySpark. O objetivo é mostrar a filtragem dos dados por meio do SQL e não do PySpark DataFrame (similar ao Pandas DataFrame).\n",
        "\n",
        "Os dados podem ser baixados aqui: https://www.kaggle.com/datasets/adaoduque/campeonato-brasileiro-de-futebol\n"
      ],
      "metadata": {
        "id": "vZN0P2e-3WOc"
      }
    },
    {
      "cell_type": "code",
      "execution_count": null,
      "metadata": {
        "colab": {
          "base_uri": "https://localhost:8080/"
        },
        "id": "TH9aDcr23T9t",
        "outputId": "7242846d-8750-4692-8286-43dc23d98ed3"
      },
      "outputs": [
        {
          "output_type": "stream",
          "name": "stdout",
          "text": [
            "Collecting pyspark\n",
            "  Downloading pyspark-3.5.0.tar.gz (316.9 MB)\n",
            "\u001b[2K     \u001b[90m━━━━━━━━━━━━━━━━━━━━━━━━━━━━━━━━━━━━━━━━\u001b[0m \u001b[32m316.9/316.9 MB\u001b[0m \u001b[31m4.7 MB/s\u001b[0m eta \u001b[36m0:00:00\u001b[0m\n",
            "\u001b[?25h  Preparing metadata (setup.py) ... \u001b[?25l\u001b[?25hdone\n",
            "Requirement already satisfied: py4j==0.10.9.7 in /usr/local/lib/python3.10/dist-packages (from pyspark) (0.10.9.7)\n",
            "Building wheels for collected packages: pyspark\n",
            "  Building wheel for pyspark (setup.py) ... \u001b[?25l\u001b[?25hdone\n",
            "  Created wheel for pyspark: filename=pyspark-3.5.0-py2.py3-none-any.whl size=317425345 sha256=8fd4121eb8e9eff21c690bdb02afec6739ddeea8c80dab46dcd76a2c68d8216b\n",
            "  Stored in directory: /root/.cache/pip/wheels/41/4e/10/c2cf2467f71c678cfc8a6b9ac9241e5e44a01940da8fbb17fc\n",
            "Successfully built pyspark\n",
            "Installing collected packages: pyspark\n",
            "Successfully installed pyspark-3.5.0\n"
          ]
        }
      ],
      "source": [
        "!pip install pyspark"
      ]
    },
    {
      "cell_type": "code",
      "source": [
        "# importando bibliotecas\n",
        "from google.colab import drive\n",
        "drive.mount('/content/drive')\n",
        "from pyspark.sql import SparkSession"
      ],
      "metadata": {
        "colab": {
          "base_uri": "https://localhost:8080/"
        },
        "id": "5dERqX1b3vEA",
        "outputId": "1cd8ff36-a941-4baa-bf3f-fb1dead0fe5e"
      },
      "execution_count": null,
      "outputs": [
        {
          "output_type": "stream",
          "name": "stdout",
          "text": [
            "Mounted at /content/drive\n"
          ]
        }
      ]
    },
    {
      "cell_type": "code",
      "source": [
        "# criacao da Spark Session\n",
        "spark = SparkSession.builder.appName(\"exemplo_sql\").getOrCreate()\n",
        "\n",
        "# leitura de arquivo CSV para criacao de DataFrame\n",
        "dfCartoes = spark.read.csv(\"/content/drive/MyDrive/ProjectsDS/privado/10-PySparkSQL/data/campeonato-brasileiro-cartoes.csv\",\n",
        "                    header=True, inferSchema=True)\n",
        "dfJogos = spark.read.csv(\"/content/drive/MyDrive/ProjectsDS/privado/10-PySparkSQL/data/campeonato-brasileiro-full.csv\",\n",
        "                    header=True, inferSchema=True)\n",
        "dfEstatisticas = spark.read.csv(\"/content/drive/MyDrive/ProjectsDS/privado/10-PySparkSQL/data/campeonato-brasileiro-estatisticas-full.csv\",\n",
        "                    header=True, inferSchema=True)\n",
        "dfGols = spark.read.csv(\"/content/drive/MyDrive/ProjectsDS/privado/10-PySparkSQL/data/campeonato-brasileiro-gols.csv\",\n",
        "                    header=True, inferSchema=True)\n"
      ],
      "metadata": {
        "id": "J3LLFqYD3r2O"
      },
      "execution_count": null,
      "outputs": []
    },
    {
      "cell_type": "code",
      "source": [
        "# registrando os DataFrames como tabelas temporária\n",
        "dfCartoes.createOrReplaceTempView(\"tabela_cartoes\")\n",
        "dfJogos.createOrReplaceTempView(\"tabela_jogos\")\n",
        "dfEstatisticas.createOrReplaceTempView(\"tabela_estatisticas\")\n",
        "dfGols.createOrReplaceTempView(\"tabela_gols\")"
      ],
      "metadata": {
        "id": "0SdG9T-J6tZj"
      },
      "execution_count": null,
      "outputs": []
    },
    {
      "cell_type": "code",
      "source": [
        "# mostrando as 5 primeiras linhas de cada tabela\n",
        "resultado = spark.sql(\"SELECT * FROM tabela_cartoes LIMIT 5\")\n",
        "print(\"tabela_cartoes\")\n",
        "resultado.show()\n",
        "resultado = spark.sql(\"SELECT * FROM tabela_jogos LIMIT 5\")\n",
        "print(\"tabela_jogos\")\n",
        "resultado.show()\n",
        "resultado = spark.sql(\"SELECT * FROM tabela_estatisticas LIMIT 5\")\n",
        "print(\"tabela_estatisticas\")\n",
        "resultado.show()\n",
        "resultado = spark.sql(\"SELECT * FROM tabela_gols LIMIT 5\")\n",
        "print(\"tabela_gols\")\n",
        "resultado.show()"
      ],
      "metadata": {
        "colab": {
          "base_uri": "https://localhost:8080/"
        },
        "id": "EuOAP4JY9T6T",
        "outputId": "a04fd0e0-f529-4ab5-c29b-1adffb893d31"
      },
      "execution_count": null,
      "outputs": [
        {
          "output_type": "stream",
          "name": "stdout",
          "text": [
            "tabela_cartoes\n",
            "+----------+------+-------------+-------+--------------------+----------+----------+------+\n",
            "|partida_id|rodata|        clube| cartao|              atleta|num_camisa|   posicao|minuto|\n",
            "+----------+------+-------------+-------+--------------------+----------+----------+------+\n",
            "|      4607|     1|  Figueirense|Amarelo|Paulo Roberto da ...|        28|      NULL|    66|\n",
            "|      4607|     1|  Figueirense|Amarelo|       Thiago Heleno|         4|  Zagueiro|    44|\n",
            "|      4608|     1|Internacional|Amarelo| Andrés D'Alessandro|        10|Meio-campo|    72|\n",
            "|      4608|     1|      Vitoria|Amarelo|Marcelo Machado d...|        29|      NULL|    86|\n",
            "|      4608|     1|      Vitoria|Amarelo|              Mansur|      NULL|  Zagueiro|    10|\n",
            "+----------+------+-------------+-------+--------------------+----------+----------+------+\n",
            "\n",
            "tabela_jogos\n",
            "+---+------+----------+-------------------+-------------+-----------+-----------------+------------------+----------------+-----------------+------------+-----------------+---------------+----------------+---------------+----------------+\n",
            "| ID|rodata|      data|               hora|     mandante|  visitante|formacao_mandante|formacao_visitante|tecnico_mandante|tecnico_visitante|    vencedor|            arena|mandante_Placar|visitante_Placar|mandante_Estado|visitante_Estado|\n",
            "+---+------+----------+-------------------+-------------+-----------+-----------------+------------------+----------------+-----------------+------------+-----------------+---------------+----------------+---------------+----------------+\n",
            "|  1|     1|29/03/2003|2024-02-17 16:00:00|      Guarani|      Vasco|             NULL|              NULL|            NULL|             NULL|     Guarani|   Brinco de Ouro|              4|               2|             SP|              RJ|\n",
            "|  2|     1|29/03/2003|2024-02-17 16:00:00| Athletico-PR|     Gremio|             NULL|              NULL|            NULL|             NULL|Athletico-PR| Arena da Baixada|              2|               0|             PR|              RS|\n",
            "|  3|     1|30/03/2003|2024-02-17 16:00:00|     Flamengo|   Coritiba|             NULL|              NULL|            NULL|             NULL|           -|         Maracanã|              1|               1|             RJ|              PR|\n",
            "|  4|     1|30/03/2003|2024-02-17 16:00:00|        Goias|   Paysandu|             NULL|              NULL|            NULL|             NULL|           -|    Serra Dourada|              2|               2|             GO|              PA|\n",
            "|  5|     1|30/03/2003|2024-02-17 16:00:00|Internacional|Ponte Preta|             NULL|              NULL|            NULL|             NULL|           -|        Beira Rio|              1|               1|             RS|              SP|\n",
            "+---+------+----------+-------------------+-------------+-----------+-----------------+------------------+----------------+-----------------+------------+-----------------+---------------+----------------+---------------+----------------+\n",
            "\n",
            "tabela_estatisticas\n",
            "+----------+------+------------+------+--------------+-------------+------+---------------+------+--------------+---------------+------------+----------+\n",
            "|partida_id|rodata|       clube|chutes|chutes_no_alvo|posse_de_bola|passes|precisao_passes|faltas|cartao_amarelo|cartao_vermelho|impedimentos|escanteios|\n",
            "+----------+------+------------+------+--------------+-------------+------+---------------+------+--------------+---------------+------------+----------+\n",
            "|         1|     1|     Guarani|     0|             0|         NULL|     0|           NULL|     0|             0|              0|           0|         0|\n",
            "|         1|     1|       Vasco|     0|             0|         NULL|     0|           NULL|     0|             0|              0|           0|         0|\n",
            "|         2|     1|      Gremio|     0|             0|         NULL|     0|           NULL|     0|             0|              0|           0|         0|\n",
            "|         2|     1|Athletico-PR|     0|             0|         NULL|     0|           NULL|     0|             0|              0|           0|         0|\n",
            "|         3|     1|    Coritiba|     0|             0|         NULL|     0|           NULL|     0|             0|              0|           0|         0|\n",
            "+----------+------+------------+------+--------------+-------------+------+---------------+------+--------------+---------------+------------+----------+\n",
            "\n",
            "tabela_gols\n",
            "+----------+------+-------------+--------------------+------+-----------+\n",
            "|partida_id|rodata|        clube|              atleta|minuto|tipo_de_gol|\n",
            "+----------+------+-------------+--------------------+------+-----------+\n",
            "|      4607|     1|   Fluminense|Nirley da Silva F...|    59| Gol Contra|\n",
            "|      4607|     1|   Fluminense|                Fred|    45|    Penalty|\n",
            "|      4607|     1|   Fluminense|        Rafael Sóbis|    31|       NULL|\n",
            "|      4608|     1|Internacional|    Charles Aránguiz|     6|       NULL|\n",
            "|      4612|     1|     Cruzeiro|Nílton Ferreira J...|    63|       NULL|\n",
            "+----------+------+-------------+--------------------+------+-----------+\n",
            "\n"
          ]
        }
      ]
    },
    {
      "cell_type": "markdown",
      "source": [
        "**1) Selecione as partidas que ocorreram no Maracanã.**"
      ],
      "metadata": {
        "id": "fGW8s7ps-V1B"
      }
    },
    {
      "cell_type": "code",
      "source": [
        "spark.sql(\"\"\"SELECT j.data, j.mandante, j.visitante\n",
        "          FROM tabela_jogos j\n",
        "          WHERE j.arena LIKE '%Maracanã%'\n",
        "          ORDER BY j.data\"\"\").show()"
      ],
      "metadata": {
        "colab": {
          "base_uri": "https://localhost:8080/"
        },
        "id": "RL6b3d52-jC2",
        "outputId": "1e5b08d8-320f-4727-f1ec-0370b0cf0add"
      },
      "execution_count": null,
      "outputs": [
        {
          "output_type": "stream",
          "name": "stdout",
          "text": [
            "+----------+-----------+-------------+\n",
            "|      data|   mandante|    visitante|\n",
            "+----------+-----------+-------------+\n",
            "|01/06/2006|Botafogo-RJ|  Figueirense|\n",
            "|01/06/2008| Fluminense|     Flamengo|\n",
            "|01/07/2023|   Flamengo|    Fortaleza|\n",
            "|01/08/2010|   Flamengo|        Vasco|\n",
            "|01/08/2013|Botafogo-RJ|      Vitoria|\n",
            "|01/08/2015| Fluminense|       Gremio|\n",
            "|01/09/2004| Fluminense|Internacional|\n",
            "|01/09/2007|   Flamengo|        Sport|\n",
            "|01/09/2010| Fluminense|    Palmeiras|\n",
            "|01/09/2013|Botafogo-RJ|    Sao Paulo|\n",
            "|01/09/2018|      Vasco|       Santos|\n",
            "|01/09/2019|   Flamengo|    Palmeiras|\n",
            "|01/10/2008| Fluminense|        Goias|\n",
            "|01/10/2022|   Flamengo|   Bragantino|\n",
            "|01/11/2003| Fluminense|  Ponte Preta|\n",
            "|01/11/2006|   Flamengo|   Santa Cruz|\n",
            "|01/11/2008|   Flamengo|   Portuguesa|\n",
            "|01/11/2020|   Flamengo|    Sao Paulo|\n",
            "|01/12/2013|      Vasco|      Nautico|\n",
            "|01/12/2018|   Flamengo| Athletico-PR|\n",
            "+----------+-----------+-------------+\n",
            "only showing top 20 rows\n",
            "\n"
          ]
        }
      ]
    },
    {
      "cell_type": "markdown",
      "source": [
        "**2) Selecione nome e saldo de gols de todos os times mandantes do Estado de SP.**"
      ],
      "metadata": {
        "id": "2UXzlqNe-E8u"
      }
    },
    {
      "cell_type": "code",
      "source": [
        "spark.sql(\"\"\"SELECT j.mandante, SUM(j.mandante_Placar) AS total_gols\n",
        "          FROM tabela_jogos j\n",
        "          WHERE j.mandante_Estado LIKE '%SP%'\n",
        "          GROUP BY j.mandante\n",
        "          ORDER BY total_gols DESC;\"\"\").show()"
      ],
      "metadata": {
        "colab": {
          "base_uri": "https://localhost:8080/"
        },
        "id": "qrhNPx14-oCK",
        "outputId": "c8b5b39a-9cb4-4cfc-8121-b80ba70b1a59"
      },
      "execution_count": null,
      "outputs": [
        {
          "output_type": "stream",
          "name": "stdout",
          "text": [
            "+---------------+----------+\n",
            "|       mandante|total_gols|\n",
            "+---------------+----------+\n",
            "|         Santos|       728|\n",
            "|      Sao Paulo|       685|\n",
            "|      Palmeiras|       641|\n",
            "|    Corinthians|       586|\n",
            "|    Ponte Preta|       256|\n",
            "|    Sao Caetano|       120|\n",
            "|     Bragantino|       119|\n",
            "|     Portuguesa|        90|\n",
            "|        Guarani|        83|\n",
            "|        Barueri|        35|\n",
            "|    Santo Andre|        29|\n",
            "|Gremio Prudente|        25|\n",
            "+---------------+----------+\n",
            "\n"
          ]
        }
      ]
    },
    {
      "cell_type": "markdown",
      "source": [
        "**3) Selecione ano e saldo de gols de todos os times mandantes do Estado de SP.**"
      ],
      "metadata": {
        "id": "qU4AqyzPDhXG"
      }
    },
    {
      "cell_type": "code",
      "source": [
        "spark.sql(\"\"\"SELECT RIGHT(j.data, 4) AS ano, SUM(j.mandante_Placar) AS total_gols\n",
        "          FROM tabela_jogos j\n",
        "          WHERE j.mandante_Estado LIKE '%SP%'\n",
        "          GROUP BY ano\n",
        "          ORDER BY total_gols DESC;\"\"\").show()"
      ],
      "metadata": {
        "colab": {
          "base_uri": "https://localhost:8080/"
        },
        "id": "xEdTWE0qBy5I",
        "outputId": "d0dcb907-dcb0-42a8-f77c-5c8f601bd37a"
      },
      "execution_count": null,
      "outputs": [
        {
          "output_type": "stream",
          "name": "stdout",
          "text": [
            "+----+----------+\n",
            "| ano|total_gols|\n",
            "+----+----------+\n",
            "|2004|       271|\n",
            "|2003|       252|\n",
            "|2005|       229|\n",
            "|2009|       200|\n",
            "|2006|       186|\n",
            "|2021|       179|\n",
            "|2015|       176|\n",
            "|2010|       172|\n",
            "|2012|       171|\n",
            "|2016|       160|\n",
            "|2022|       152|\n",
            "|2017|       147|\n",
            "|2023|       144|\n",
            "|2008|       142|\n",
            "|2019|       132|\n",
            "|2013|       119|\n",
            "|2011|       119|\n",
            "|2007|       115|\n",
            "|2018|       114|\n",
            "|2014|       110|\n",
            "+----+----------+\n",
            "only showing top 20 rows\n",
            "\n"
          ]
        }
      ]
    },
    {
      "cell_type": "markdown",
      "source": [
        "**4) Selecione data e local de todas as partidas jogadas pelo Palmeiras**"
      ],
      "metadata": {
        "id": "CDaUU6KgD41j"
      }
    },
    {
      "cell_type": "code",
      "source": [
        "spark.sql(\"\"\"SELECT j.data, j.arena\n",
        "          FROM tabela_jogos j\n",
        "          WHERE j.mandante LIKE '%Palmeiras%' OR j.visitante LIKE '%Palmeiras%'\n",
        "          ORDER BY j.data DESC;\"\"\").show()"
      ],
      "metadata": {
        "colab": {
          "base_uri": "https://localhost:8080/"
        },
        "id": "MNhbh4_KEART",
        "outputId": "7ed81c13-d258-49fe-e145-8420a4b2d15c"
      },
      "execution_count": null,
      "outputs": [
        {
          "output_type": "stream",
          "name": "stdout",
          "text": [
            "+----------+--------------------+\n",
            "|      data|               arena|\n",
            "+----------+--------------------+\n",
            "|31/10/2021|     Arena do Grêmio|\n",
            "|31/08/2011|            Engenhão|\n",
            "|31/08/2008|       Kyocera Arena|\n",
            "|31/07/2021|             Morumbi|\n",
            "|31/07/2016|     Luso-Brasileiro|\n",
            "|31/07/2005|       Pacaembu*(PF)|\n",
            "|31/05/2015|   Neo Química Arena|\n",
            "|31/05/2009|       Arena Barueri|\n",
            "|31/05/2009|     Palestra Itália|\n",
            "|31/05/2006|            Maracanã|\n",
            "|30/11/2021|      Arena Pantanal|\n",
            "|30/11/2008|            Barradão|\n",
            "|30/10/2019|      Allianz Parque|\n",
            "|30/10/2017|      Allianz Parque|\n",
            "|30/10/2011|     Arena do Jacaré|\n",
            "|30/10/2010|       Arena Barueri|\n",
            "|30/10/2005|            Mineirão|\n",
            "|30/10/2004|       Bento Freitas|\n",
            "|30/09/2018|Estádio Municipal...|\n",
            "|30/09/2017|      Allianz Parque|\n",
            "+----------+--------------------+\n",
            "only showing top 20 rows\n",
            "\n"
          ]
        }
      ]
    },
    {
      "cell_type": "markdown",
      "source": [
        "**5) Para cada atleta que já fez gol, selecione o nome, time, nº camisa e estado do time para o qual joga ou já jogou.**"
      ],
      "metadata": {
        "id": "J0i9JppK25NY"
      }
    },
    {
      "cell_type": "code",
      "source": [
        "spark.sql(\"\"\"SELECT c.atleta, c.clube, c.num_camisa, j.mandante_Estado As clube_estado\n",
        "          FROM tabela_cartoes c\n",
        "          LEFT JOIN tabela_jogos j\n",
        "          ON c.clube = j.mandante\n",
        "          WHERE c.atleta IS NOT NULL\n",
        "          GROUP BY c.atleta, c.clube, c.num_camisa, clube_estado\n",
        "          ORDER BY c.atleta;\"\"\").show()"
      ],
      "metadata": {
        "colab": {
          "base_uri": "https://localhost:8080/"
        },
        "id": "lCdcQeTx2Uvr",
        "outputId": "b086dfce-2c36-4812-fccd-a790e1378bb5"
      },
      "execution_count": null,
      "outputs": [
        {
          "output_type": "stream",
          "name": "stdout",
          "text": [
            "+--------------------+-------------+----------+------------+\n",
            "|              atleta|        clube|num_camisa|clube_estado|\n",
            "+--------------------+-------------+----------+------------+\n",
            "|      Abel Hernández|   Fluminense|        32|          RJ|\n",
            "|      Abel Hernández|Internacional|        99|          RS|\n",
            "|      Abner Vinícius| Athletico-PR|        16|          PR|\n",
            "|               Abuda|  Ponte Preta|        18|          SP|\n",
            "|               Abuda|  Chapecoense|        22|          SC|\n",
            "|               Abuda|  Ponte Preta|         5|          SP|\n",
            "|Adalberto dos San...|   America-MG|         4|          MG|\n",
            "|Adalberto dos San...|    Fortaleza|        29|          CE|\n",
            "|           Ademilson|    Sao Paulo|        19|          SP|\n",
            "|              Ademir|   America-MG|        10|          MG|\n",
            "|              Ademir|   America-MG|        15|          MG|\n",
            "|              Ademir|   America-MG|        19|          MG|\n",
            "|              Ademir|  Atletico-MG|        19|          MG|\n",
            "|              Ademir|        Bahia|         7|          BA|\n",
            "|              Ademir|   America-MG|         7|          MG|\n",
            "|Aderbar dos Santo...| Athletico-PR|         1|          PR|\n",
            "|      Aderlan Santos|      Vitoria|        33|          BA|\n",
            "|       Aderlan Silva|   America-MG|        13|          MG|\n",
            "|       Aderlan Silva|   Bragantino|        13|          SP|\n",
            "|Adniellyson da Si...|Internacional|        36|          RS|\n",
            "+--------------------+-------------+----------+------------+\n",
            "only showing top 20 rows\n",
            "\n"
          ]
        }
      ]
    },
    {
      "cell_type": "markdown",
      "source": [
        "**6) Selecione os times que não jogaram nenhuma partida nos meses de julho e agosto de 2021.**"
      ],
      "metadata": {
        "id": "H9UdYi2Q4VeJ"
      }
    },
    {
      "cell_type": "code",
      "source": [
        "spark.sql(\"\"\"SELECT j.data, j.mandante, j.visitante\n",
        "          FROM tabela_jogos j\n",
        "          WHERE EXTRACT(YEAR FROM to_date(j.data,'dd/MM/yyyy')) <> 2021\n",
        "          AND EXTRACT(MONTH FROM to_date(j.data,'dd/MM/yyyy')) <> 7\n",
        "          AND EXTRACT(MONTH FROM to_date(j.data,'dd/MM/yyyy')) <> 8\"\"\").show()"
      ],
      "metadata": {
        "colab": {
          "base_uri": "https://localhost:8080/"
        },
        "id": "Ck16a9DVhOjs",
        "outputId": "ad7f1742-732c-4096-a5fd-5c64d1cecf8e"
      },
      "execution_count": null,
      "outputs": [
        {
          "output_type": "stream",
          "name": "stdout",
          "text": [
            "+----------+-------------+-------------+\n",
            "|      data|     mandante|    visitante|\n",
            "+----------+-------------+-------------+\n",
            "|29/03/2003|      Guarani|        Vasco|\n",
            "|29/03/2003| Athletico-PR|       Gremio|\n",
            "|30/03/2003|     Flamengo|     Coritiba|\n",
            "|30/03/2003|        Goias|     Paysandu|\n",
            "|30/03/2003|Internacional|  Ponte Preta|\n",
            "|30/03/2003|     Criciuma|   Fluminense|\n",
            "|30/03/2003|    Juventude|    Sao Paulo|\n",
            "|30/03/2003|    Fortaleza|        Bahia|\n",
            "|30/03/2003|     Cruzeiro|  Sao Caetano|\n",
            "|30/03/2003|      Vitoria|  Figueirense|\n",
            "|30/03/2003|       Santos|       Parana|\n",
            "|30/03/2003|  Corinthians|  Atletico-MG|\n",
            "|05/04/2003|   Fluminense|    Fortaleza|\n",
            "|05/04/2003|  Atletico-MG|       Santos|\n",
            "|05/04/2003|     Coritiba|Internacional|\n",
            "|05/04/2003|       Gremio|      Guarani|\n",
            "|06/04/2003|        Bahia|     Flamengo|\n",
            "|06/04/2003|  Figueirense|  Corinthians|\n",
            "|06/04/2003|     Paysandu|      Vitoria|\n",
            "|06/04/2003|  Ponte Preta|    Juventude|\n",
            "+----------+-------------+-------------+\n",
            "only showing top 20 rows\n",
            "\n"
          ]
        }
      ]
    },
    {
      "cell_type": "markdown",
      "source": [
        "**7) Selecionar a quantidade de jogos ocorridos no mês de julho de 2021 que tiveram cartão amarelo.**"
      ],
      "metadata": {
        "id": "rX3dh3wHljso"
      }
    },
    {
      "cell_type": "code",
      "source": [
        "spark.sql(\"\"\"SELECT COUNT(*) AS QtdJogosCartaoAmarelo2021\n",
        "          FROM tabela_jogos j JOIN tabela_cartoes c\n",
        "          ON j.ID = c.partida_id\n",
        "          WHERE c.cartao = 'Amarelo' AND EXTRACT(MONTH FROM to_date(j.data,'dd/MM/yyyy')) = 7\n",
        "          AND EXTRACT(YEAR FROM to_date(j.data,'dd/MM/yyyy')) = 2021;\"\"\").show()"
      ],
      "metadata": {
        "colab": {
          "base_uri": "https://localhost:8080/"
        },
        "id": "KtSkKQFklpqS",
        "outputId": "524c9311-19b0-4d09-acf0-93809e12b21b"
      },
      "execution_count": null,
      "outputs": [
        {
          "output_type": "stream",
          "name": "stdout",
          "text": [
            "+-------------------------+\n",
            "|QtdJogosCartaoAmarelo2021|\n",
            "+-------------------------+\n",
            "|                      267|\n",
            "+-------------------------+\n",
            "\n"
          ]
        }
      ]
    },
    {
      "cell_type": "markdown",
      "source": [
        "**8) Selecione os nomes do atleta, do clube, do cartão e a posição do atleta de todas as partidas que tiveram gol do tipo Penalty e a posição do atleta é diferente de NULL.**"
      ],
      "metadata": {
        "id": "eHM5oUFvn9bw"
      }
    },
    {
      "cell_type": "code",
      "source": [
        "spark.sql(\"\"\"SELECT atleta, clube, cartao, posicao\n",
        "              FROM tabela_cartoes\n",
        "              WHERE atleta NOT IN (SELECT atleta FROM tabela_gols\n",
        "                                   WHERE tipo_de_gol = 'Penalty')\n",
        "              AND posicao IS NOT NULL; \"\"\").show()"
      ],
      "metadata": {
        "colab": {
          "base_uri": "https://localhost:8080/"
        },
        "id": "kyU6G6hOq58l",
        "outputId": "af68bbf1-9040-4702-f141-9e04a9de0afe"
      },
      "execution_count": null,
      "outputs": [
        {
          "output_type": "stream",
          "name": "stdout",
          "text": [
            "+--------------------+-------------+-------+----------+\n",
            "|              atleta|        clube| cartao|   posicao|\n",
            "+--------------------+-------------+-------+----------+\n",
            "|              Mansur|      Vitoria|Amarelo|  Zagueiro|\n",
            "|Juan Silveira dos...|Internacional|Amarelo|  Zagueiro|\n",
            "|Carlos Emiliano P...|     Coritiba|Amarelo|  Zagueiro|\n",
            "|Cristian Chagas T...|        Bahia|Amarelo|  Zagueiro|\n",
            "|             Rhayner|        Bahia|Amarelo|  Atacante|\n",
            "|Willian Gomes de ...|     Cruzeiro|Amarelo|  Atacante|\n",
            "|                Pará|        Bahia|Amarelo|  Zagueiro|\n",
            "|               Fahel|        Bahia|Amarelo|Meio-campo|\n",
            "|   Paulo César Tinga|     Cruzeiro|Amarelo|Meio-campo|\n",
            "|Nílton Ferreira J...|     Cruzeiro|Amarelo|Meio-campo|\n",
            "|      Marcelo Mattos|  Botafogo-RJ|Amarelo|Meio-campo|\n",
            "|      Álvaro Pereira|    Sao Paulo|Amarelo|  Zagueiro|\n",
            "|Juan Carlos Ferreyra|  Botafogo-RJ|Amarelo|  Atacante|\n",
            "|       Paulinho Dias| Athletico-PR|Amarelo|Meio-campo|\n",
            "|Ramiro Moschen Be...|       Gremio|Amarelo|Meio-campo|\n",
            "|              Edinho|       Gremio|Amarelo|Meio-campo|\n",
            "|Wallace Reis da S...|     Flamengo|Amarelo|  Zagueiro|\n",
            "|Thiago Henrique M...|        Goias|Amarelo|Meio-campo|\n",
            "|Maurício Azevedo ...|     Flamengo|Amarelo|Meio-campo|\n",
            "|Luiz Antonio Linh...|        Sport|Amarelo|  Zagueiro|\n",
            "+--------------------+-------------+-------+----------+\n",
            "only showing top 20 rows\n",
            "\n"
          ]
        }
      ]
    }
  ]
}